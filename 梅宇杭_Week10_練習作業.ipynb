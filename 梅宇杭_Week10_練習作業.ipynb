{
  "nbformat": 4,
  "nbformat_minor": 0,
  "metadata": {
    "colab": {
      "name": "梅宇杭-Week10-練習作業.ipynb",
      "provenance": [],
      "collapsed_sections": [],
      "include_colab_link": true
    },
    "kernelspec": {
      "name": "python3",
      "display_name": "Python 3"
    },
    "language_info": {
      "name": "python"
    }
  },
  "cells": [
    {
      "cell_type": "markdown",
      "metadata": {
        "id": "view-in-github",
        "colab_type": "text"
      },
      "source": [
        "<a href=\"https://colab.research.google.com/github/a108050190/Computation-Thinking-and-Program-Design/blob/main/%E6%A2%85%E5%AE%87%E6%9D%AD_Week10_%E7%B7%B4%E7%BF%92%E4%BD%9C%E6%A5%AD.ipynb\" target=\"_parent\"><img src=\"https://colab.research.google.com/assets/colab-badge.svg\" alt=\"Open In Colab\"/></a>"
      ]
    },
    {
      "cell_type": "code",
      "metadata": {
        "colab": {
          "base_uri": "https://localhost:8080/",
          "height": 0
        },
        "id": "1qHEzm6C6AV-",
        "outputId": "5a85f65d-5046-47ea-ea2e-760f858f36d5"
      },
      "source": [
        "## Input Data\n",
        "\n",
        "total=0\n",
        "total=total=(6*60+32)\n",
        "total=total=(7*60+21)\n",
        "total=total=(5*60+51)\n",
        "total=total=(7*60+3)\n",
        "total=total=(5*60+48)\n",
        "total\n",
        "minutes=total//60\n",
        "seconds=total%60\n",
        "\n",
        "print(f\"跑步时间为{minutes}分钟{seconds}秒\")"
      ],
      "execution_count": 6,
      "outputs": [
        {
          "output_type": "stream",
          "text": [
            "跑步时间为5分钟48秒\n"
          ],
          "name": "stdout"
        }
      ]
    },
    {
      "cell_type": "markdown",
      "metadata": {
        "id": "QuHy9UKxyt9Y"
      },
      "source": [
        "**4-2-2. 演算法 - 時間轉換**\n"
      ]
    },
    {
      "cell_type": "markdown",
      "metadata": {
        "id": "FaEXOvttyzuY"
      },
      "source": [
        "請將123分鐘數轉換為幾小時幾分鐘。"
      ]
    },
    {
      "cell_type": "code",
      "metadata": {
        "colab": {
          "base_uri": "https://localhost:8080/",
          "height": 0
        },
        "id": "Mjc9POX4y6Ho",
        "outputId": "d0718305-a228-4ce4-d4d7-7a50c4ab5a02"
      },
      "source": [
        "## Input Data\n",
        "time =123\n",
        "\n",
        "## Process\n",
        "hours =123/60\n",
        "hours1 = int(hours)\n",
        "\n",
        "minutes = (hours - hours1) * 60\n",
        "minutes1 = round(minutes)\n",
        "minutes1\n",
        "\n",
        "## Output\n",
        "print(hours1, minutes1)"
      ],
      "execution_count": 1,
      "outputs": [
        {
          "output_type": "stream",
          "text": [
            "2 3\n"
          ],
          "name": "stdout"
        }
      ]
    },
    {
      "cell_type": "code",
      "metadata": {
        "id": "uwMZyFdHzBn0"
      },
      "source": [
        "time = 123\n",
        "\n",
        "hours = time/60 \n",
        "hours1 = int(hours) \n",
        "\n",
        "minutes = hours1 - hours \n",
        "minutes1 = round(minutes*60) \n",
        "\n",
        "print(time, \"is equal to\", hours1, \"Hours and\", minutes1,\"Minutes\")"
      ],
      "execution_count": null,
      "outputs": []
    },
    {
      "cell_type": "markdown",
      "metadata": {
        "id": "JZzZN9YJsoui"
      },
      "source": [
        "#### 4-2-3. 模式辨識 - 報告分組"
      ]
    },
    {
      "cell_type": "markdown",
      "metadata": {
        "id": "crVRqR1Lsouj"
      },
      "source": [
        "**範例說明：報告分組**\n",
        "\n",
        "因為教學需求，全班40位同學要進行分組報告，每五位同學一組，老師規定依座號順序分組，也就是1號到5號一組，6號到10號一組，請寫一個程式允許使用者輸入座號，輸出分組的組別。"
      ]
    },
    {
      "cell_type": "code",
      "metadata": {
        "id": "VaqfJxccsouj"
      },
      "source": [
        "～預覽結果\n",
        "輸入座號，例如「19」，計算結果顯示在螢幕如下。\n",
        "請輸入座號？19\n",
        "組別為 4\n",
        "\n",
        "～運算思維：模式辨識\n",
        "\n",
        "1 ，1/5 ......= 0.2  -> 商數0餘數1 ->  0,0\n",
        "\n",
        "2，2/5 ......= 0.4   -> 商數0餘數2 ->  0,1\n",
        "\n",
        "3，3/5 ......= 0.6   ->  商數0餘數3 -> 0,2\n",
        "\n",
        "4， 4/5 ......= 0.8  ->  商數0餘數4 -> 0,3\n",
        "\n",
        "5，5/5 ...... = 1     ->  商數1餘數0 -> 0,4"
      ],
      "execution_count": null,
      "outputs": []
    },
    {
      "cell_type": "code",
      "metadata": {
        "id": "yJLuc6a9souj",
        "colab": {
          "base_uri": "https://localhost:8080/",
          "height": 0
        },
        "outputId": "33b889c8-07f8-4eb5-9300-4f9601445289"
      },
      "source": [
        "seats = int(input('請輸入座號？')) #文字轉數字\n",
        "groups = (seats - 1)//5 + 1\n",
        "print('組別為', groups)"
      ],
      "execution_count": 4,
      "outputs": [
        {
          "output_type": "stream",
          "text": [
            "請輸入座號？2\n",
            "組別為 1\n"
          ],
          "name": "stdout"
        }
      ]
    },
    {
      "cell_type": "code",
      "metadata": {
        "colab": {
          "base_uri": "https://localhost:8080/",
          "height": 0
        },
        "id": "vyvhKuVH1EE6",
        "outputId": "7a0cbe80-bfb0-4d28-90eb-1f6b876c2a04"
      },
      "source": [
        "import math\n",
        "seats = int(input(\"請輸入座號？\"))\n",
        "groups = math.ceil(seats/5)\n",
        "print(\"組別為\",groups)"
      ],
      "execution_count": 2,
      "outputs": [
        {
          "output_type": "stream",
          "text": [
            "請輸入座號？6\n",
            "組別為 2\n"
          ],
          "name": "stdout"
        }
      ]
    },
    {
      "cell_type": "code",
      "metadata": {
        "colab": {
          "base_uri": "https://localhost:8080/",
          "height": 0
        },
        "id": "k4BaaqaJ1IcX",
        "outputId": "d5a19d36-52b3-4c68-f983-c22ae1b42158"
      },
      "source": [
        "seats = int(input(\"請輸入座號？ \"))\n",
        "if seats%5 == 0:\n",
        "    print(\"組別為\", seats//5)\n",
        "else:\n",
        "    print(\"組別為\", seats//5 +1)"
      ],
      "execution_count": 3,
      "outputs": [
        {
          "output_type": "stream",
          "text": [
            "請輸入座號？ 12\n",
            "組別為 3\n"
          ],
          "name": "stdout"
        }
      ]
    },
    {
      "cell_type": "markdown",
      "metadata": {
        "id": "zsBGWbIf7FU5"
      },
      "source": [
        "\n",
        "**練習17: 農夫的難題**\n",
        "\n",
        "一位農夫帶著一條狼，一隻羊和一籃蔬菜過河但只有一條小船，並且每次只能讓農夫帶一樣東西過河。農夫在場的情況下一切相安無事，一旦農夫不在，狼會吃羊，洋會吃蔬菜。你幫助農夫解決過河的難題嗎？"
      ]
    },
    {
      "cell_type": "markdown",
      "metadata": {
        "id": "ezAW52se7VPq"
      },
      "source": [
        "农夫先把羊带过河\n",
        "农夫回来\n",
        "农夫再把狼带过河\n",
        "农夫再把羊带回来\n",
        "农夫把蔬菜带过河\n",
        "农夫回来\n",
        "农夫和羊一起过河\n",
        "完成"
      ]
    }
  ]
}