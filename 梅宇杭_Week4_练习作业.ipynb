{
  "nbformat": 4,
  "nbformat_minor": 0,
  "metadata": {
    "colab": {
      "name": "梅宇杭- Week4-练习作业.ipynb",
      "provenance": [],
      "collapsed_sections": [],
      "authorship_tag": "ABX9TyNlno6NZMKzkQyFP1hlux08",
      "include_colab_link": true
    },
    "kernelspec": {
      "name": "python3",
      "display_name": "Python 3"
    }
  },
  "cells": [
    {
      "cell_type": "markdown",
      "metadata": {
        "id": "view-in-github",
        "colab_type": "text"
      },
      "source": [
        "<a href=\"https://colab.research.google.com/github/a108050190/Computation-Thinking-and-Program-Design/blob/main/%E6%A2%85%E5%AE%87%E6%9D%AD_Week4_%E7%BB%83%E4%B9%A0%E4%BD%9C%E4%B8%9A.ipynb\" target=\"_parent\"><img src=\"https://colab.research.google.com/assets/colab-badge.svg\" alt=\"Open In Colab\"/></a>"
      ]
    },
    {
      "cell_type": "markdown",
      "metadata": {
        "id": "pJHLr8AgVcUo"
      },
      "source": [
        "# 随堂练习"
      ]
    },
    {
      "cell_type": "code",
      "metadata": {
        "colab": {
          "base_uri": "https://localhost:8080/"
        },
        "id": "dV5pPYB1Vmvk",
        "outputId": "1c7913e0-9b29-4805-8b21-52d9bc4d8888"
      },
      "source": [
        "print(1+1)"
      ],
      "execution_count": 1,
      "outputs": [
        {
          "output_type": "stream",
          "text": [
            "2\n"
          ],
          "name": "stdout"
        }
      ]
    },
    {
      "cell_type": "markdown",
      "metadata": {
        "id": "-bb5iDSBWAGX"
      },
      "source": [
        "# 课后练习"
      ]
    },
    {
      "cell_type": "markdown",
      "metadata": {
        "id": "JbPQvjDNWOpY"
      },
      "source": [
        "**從一則新聞報導，提出你對新聞系（OO系）學生為什麼要學「運算思維與程式設計」的見解。（告訴我新聞連結，以及你的觀點即可。）**"
      ]
    },
    {
      "cell_type": "markdown",
      "metadata": {
        "id": "Ro7Tp5ApX2OS"
      },
      "source": [
        "https://medium.com/dd-story-hub/p-%E5%AF%A6%E7%BF%92%E7%B6%93%E9%A9%97%E8%AB%87-%E6%96%B0%E8%81%9E%E7%B7%A8%E8%BC%AF%E7%82%BA%E4%BB%80%E9%BA%BC%E8%A6%81%E5%AD%B8%E7%A8%8B%E5%BC%8F%E8%A8%AD%E8%A8%88-bb375fc83bf6"
      ]
    },
    {
      "cell_type": "markdown",
      "metadata": {
        "id": "FWd5ObLjYMga"
      },
      "source": [
        "刚刚上这堂课的时候，我一直在思考寫新聞的時候，會寫Python、懂資料處理，實際上对我们的科系会有什麼幫助，就一般新聞資料分析來說，在google試算表用vlookup加上樞紐分析就可以完成大半任務；而數位敘事的製作過程中，說故事的能力比起程式能力更被看重，因為讀者通常不管你的設計背後有什麼細節，而更在意他們能不能好好看完一篇報導、看到了什麼。不过上了这堂课之后深有感悟，多會一種工具讓也没有不好，做事更有彈性，用對工具做事效率也更高。上這些課其實真的不怎麼輕鬆，總是要啃很多生硬的專有名詞，不過我很喜歡跟同好一起交流解題的過程。畢竟每個人看問題的方式不同，一件事也不只有一個解決方法，就像上面提到的，我認為多會一種工具後，自己在解決問題時也會更有彈性。而且在写程式的时候我们也能渐渐的習慣拆解工作，在寫程式之前，必須先定義步驟、流程，再將之模組化。所以習慣寫程式的人在遇到問題時，會開始考慮所有可能性，把工作拆解、步驟化等，久而久之，就變成他的思考模式。这样看下来，这堂课带给我我们的效益似乎比字面上看起来的更大，我也会尽心尽力学下去。"
      ]
    },
    {
      "cell_type": "code",
      "metadata": {
        "id": "GNR0EEF-hxJE"
      },
      "source": [
        ""
      ],
      "execution_count": null,
      "outputs": []
    }
  ]
}