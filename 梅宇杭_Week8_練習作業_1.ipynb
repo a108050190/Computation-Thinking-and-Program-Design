{
  "nbformat": 4,
  "nbformat_minor": 0,
  "metadata": {
    "colab": {
      "name": "梅宇杭-Week8-練習作業-1.ipynb",
      "provenance": [],
      "collapsed_sections": [],
      "include_colab_link": true
    },
    "kernelspec": {
      "name": "python3",
      "display_name": "Python 3"
    },
    "language_info": {
      "name": "python"
    }
  },
  "cells": [
    {
      "cell_type": "markdown",
      "metadata": {
        "id": "view-in-github",
        "colab_type": "text"
      },
      "source": [
        "<a href=\"https://colab.research.google.com/github/a108050190/Computation-Thinking-and-Program-Design/blob/main/%E6%A2%85%E5%AE%87%E6%9D%AD_Week8_%E7%B7%B4%E7%BF%92%E4%BD%9C%E6%A5%AD_1.ipynb\" target=\"_parent\"><img src=\"https://colab.research.google.com/assets/colab-badge.svg\" alt=\"Open In Colab\"/></a>"
      ]
    },
    {
      "cell_type": "markdown",
      "metadata": {
        "id": "vB2RsPZgxZ79"
      },
      "source": [
        "**隨堂練習: 求圓環的面積**\n",
        "\n",
        "輸入外圓直徑r1與內圓直徑r2，求圓環面積。"
      ]
    },
    {
      "cell_type": "code",
      "metadata": {
        "colab": {
          "base_uri": "https://localhost:8080/"
        },
        "id": "DKCmwIWRzt6e",
        "outputId": "095b07d6-9327-4e08-b8bd-820843709e8f"
      },
      "source": [
        "r1=eval(input(\"輸入外圓直徑:\"))\n",
        "r2=eval(input(\"輸入內圓直徑:\"))\n",
        "s1=3.14*r1/2*r1/2\n",
        "s2=3.14*r2/2*r2/2\n",
        "s3=s1-s2\n",
        "print(\"外圓直徑\",s1)\n",
        "print(\"內圓直徑\",s2)\n",
        "print(\"圓環面積\",s3)"
      ],
      "execution_count": null,
      "outputs": [
        {
          "output_type": "stream",
          "text": [
            "輸入外圓直徑:10\n",
            "輸入內圓直徑:6\n",
            "外圓直徑 78.5\n",
            "內圓直徑 28.259999999999998\n",
            "圓環面積 50.24\n"
          ],
          "name": "stdout"
        }
      ]
    },
    {
      "cell_type": "markdown",
      "metadata": {
        "id": "8lrz8Aq5xZ7_"
      },
      "source": [
        "**隨堂練習 : 英制轉公制**\n",
        "\n",
        "將身高由英制改成公制，例如5尺8吋換算成公制，1尺等於12吋，1吋等於2.54公分，轉換公式為(5*12+8)*2.54等於172.72公分。\n",
        "\n",
        "～預覽結果\n",
        "\n",
        "輸入「5」尺，輸入「8」吋，計算結果顯示在螢幕如下。\n",
        "\n",
        "請輸入幾尺？5\n",
        "\n",
        "請輸入幾吋？8\n",
        "\n",
        "轉換成 172.72 公分"
      ]
    },
    {
      "cell_type": "code",
      "metadata": {
        "colab": {
          "base_uri": "https://localhost:8080/"
        },
        "id": "dc0BtM4lz5BB",
        "outputId": "289ac3f4-55ea-4e46-894e-8ac53c1bfb15"
      },
      "source": [
        "f=float(input(\"請輸入幾尺?\"))\n",
        "i=float(input(\"請輸入幾吋?\"))\n",
        "\n",
        "ans=(((f*12)+i)*2.54)\n",
        "\n",
        "print('轉換成',ans,'公分') "
      ],
      "execution_count": null,
      "outputs": [
        {
          "output_type": "stream",
          "text": [
            "請輸入幾尺?5\n",
            "請輸入幾吋?8\n",
            "轉換成 172.72 公分\n"
          ],
          "name": "stdout"
        }
      ]
    },
    {
      "cell_type": "markdown",
      "metadata": {
        "id": "cODnd5f11Y5e"
      },
      "source": [
        ""
      ]
    },
    {
      "cell_type": "markdown",
      "metadata": {
        "id": "zn9yxpYB1UHr"
      },
      "source": [
        "**練習5: 整理圖書**\n",
        "\n",
        "輸入兩個正整數a = 13和b = 11，將換a和b的值，即a = 11和b = 13。\n",
        "\n",
        "～梁小星在家中整理書櫃，原來第一層放11本爸爸的書，第二層放13本自己的書，他想將兩層圖書的位置對調，請問該如何做呢？"
      ]
    },
    {
      "cell_type": "code",
      "metadata": {
        "id": "CYheRU0Z1ZqD",
        "colab": {
          "base_uri": "https://localhost:8080/"
        },
        "outputId": "88ed42a1-5527-48e7-c0ac-28dfe851ff1c"
      },
      "source": [
        "a = 13\n",
        "b = 11\n",
        "\n",
        "## Input\n",
        "a = 13\n",
        "b = 11\n",
        "## Process\n",
        "t = a\n",
        "a = b\n",
        "b = t\n",
        "## Output\n",
        "print(\"a =\", a, \"b =\", b)"
      ],
      "execution_count": null,
      "outputs": [
        {
          "output_type": "stream",
          "text": [
            "a = 11 b = 13\n"
          ],
          "name": "stdout"
        }
      ]
    },
    {
      "cell_type": "markdown",
      "metadata": {
        "id": "Lfl67foF1aCz"
      },
      "source": [
        ""
      ]
    },
    {
      "cell_type": "markdown",
      "metadata": {
        "id": "_IjBcj8M1UHv"
      },
      "source": [
        "**練習11: 分糖果遊戲**\n",
        "\n",
        "在糖果屋中，有6位小朋友在玩分糖果遊戲。這6位小朋友的編號為1, 2, 3, 4, 5, 6，並按照自己的編號坐在一張圓桌旁。它們身上都有不同的糖果，從1號小朋友開始，將自己的糖果均分成3份，如果有多的就立刻先吃掉，然後自己留1份，其餘2份給身邊的小朋友。接著2號、3號、4號、5號、6號同學這樣做。問一輪後，每位小朋友手上有多少糖果。"
      ]
    },
    {
      "cell_type": "code",
      "metadata": {
        "id": "pJRAM2sl1f3a",
        "colab": {
          "base_uri": "https://localhost:8080/"
        },
        "outputId": "b686f177-0697-4cf9-c340-1a0919667b89"
      },
      "source": [
        "(x1,x2,x3,x4,x5,x6)={10,11,12,13,14,15}\n",
        "x1=x1-x1%3\n",
        "x2=x2-x2%3\n",
        "x3=x3-x3%3\n",
        "x4=x4-x4%3\n",
        "x5=x5-x5%3\n",
        "x6=x6-x6%3  #每個人吃掉的糖果總數\n",
        "y1=x1/3\n",
        "y2=x2/3\n",
        "y3=x3/3\n",
        "y4=x4/3\n",
        "y5=x5/3\n",
        "y6=x6/3   #每個人糖果除3之後的糖果數\n",
        "z1=y1+y6+y2\n",
        "z2=y2+y1+y3\n",
        "z3=y3+y2+y4\n",
        "z4=y4+y3+y5\n",
        "z5=y5+y4+y6\n",
        "z6=y6+y1+y5\n",
        "print(z1,z2,z3,z4,z5,z6) #分完之後的糖果數"
      ],
      "execution_count": null,
      "outputs": [
        {
          "output_type": "stream",
          "text": [
            "11.0 10.0 11.0 12.0 13.0 12.0\n"
          ],
          "name": "stdout"
        }
      ]
    },
    {
      "cell_type": "code",
      "metadata": {
        "id": "r2k9YQgPhPpB"
      },
      "source": [
        ""
      ],
      "execution_count": null,
      "outputs": []
    }
  ]
}